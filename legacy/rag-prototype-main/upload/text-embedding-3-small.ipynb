{
 "cells": [
  {
   "cell_type": "code",
   "execution_count": 7,
   "id": "7c96ea16",
   "metadata": {},
   "outputs": [
    {
     "data": {
      "text/plain": [
       "True"
      ]
     },
     "execution_count": 7,
     "metadata": {},
     "output_type": "execute_result"
    }
   ],
   "source": [
    "# load environment variables\n",
    "from dotenv import load_dotenv\n",
    "load_dotenv()"
   ]
  },
  {
   "cell_type": "code",
   "execution_count": 8,
   "id": "c5c53c64-e4a2-4573-bd9d-d06a579a22d9",
   "metadata": {},
   "outputs": [],
   "source": [
    "from langchain.document_loaders import TextLoader\n",
    "from langchain.text_splitter import CharacterTextSplitter"
   ]
  },
  {
   "cell_type": "code",
   "execution_count": 9,
   "id": "1e5a637f",
   "metadata": {},
   "outputs": [],
   "source": [
    "# create a text loader object and load the text\n",
    "text_loader = TextLoader(\"../textdata/taiwan.txt\")\n",
    "documents = text_loader.load()"
   ]
  },
  {
   "cell_type": "code",
   "execution_count": 10,
   "id": "e24df832",
   "metadata": {},
   "outputs": [
    {
     "name": "stderr",
     "output_type": "stream",
     "text": [
      "Created a chunk of size 293, which is longer than the specified 256\n",
      "Created a chunk of size 331, which is longer than the specified 256\n",
      "Created a chunk of size 373, which is longer than the specified 256\n",
      "Created a chunk of size 331, which is longer than the specified 256\n",
      "Created a chunk of size 314, which is longer than the specified 256\n",
      "Created a chunk of size 668, which is longer than the specified 256\n",
      "Created a chunk of size 386, which is longer than the specified 256\n",
      "Created a chunk of size 539, which is longer than the specified 256\n",
      "Created a chunk of size 352, which is longer than the specified 256\n",
      "Created a chunk of size 325, which is longer than the specified 256\n",
      "Created a chunk of size 493, which is longer than the specified 256\n",
      "Created a chunk of size 448, which is longer than the specified 256\n",
      "Created a chunk of size 422, which is longer than the specified 256\n",
      "Created a chunk of size 334, which is longer than the specified 256\n",
      "Created a chunk of size 304, which is longer than the specified 256\n",
      "Created a chunk of size 350, which is longer than the specified 256\n",
      "Created a chunk of size 563, which is longer than the specified 256\n",
      "Created a chunk of size 289, which is longer than the specified 256\n",
      "Created a chunk of size 379, which is longer than the specified 256\n",
      "Created a chunk of size 258, which is longer than the specified 256\n",
      "Created a chunk of size 359, which is longer than the specified 256\n",
      "Created a chunk of size 533, which is longer than the specified 256\n",
      "Created a chunk of size 643, which is longer than the specified 256\n",
      "Created a chunk of size 264, which is longer than the specified 256\n",
      "Created a chunk of size 519, which is longer than the specified 256\n",
      "Created a chunk of size 566, which is longer than the specified 256\n",
      "Created a chunk of size 286, which is longer than the specified 256\n",
      "Created a chunk of size 469, which is longer than the specified 256\n",
      "Created a chunk of size 589, which is longer than the specified 256\n",
      "Created a chunk of size 377, which is longer than the specified 256\n",
      "Created a chunk of size 296, which is longer than the specified 256\n",
      "Created a chunk of size 628, which is longer than the specified 256\n",
      "Created a chunk of size 259, which is longer than the specified 256\n",
      "Created a chunk of size 360, which is longer than the specified 256\n",
      "Created a chunk of size 262, which is longer than the specified 256\n",
      "Created a chunk of size 487, which is longer than the specified 256\n",
      "Created a chunk of size 352, which is longer than the specified 256\n",
      "Created a chunk of size 609, which is longer than the specified 256\n",
      "Created a chunk of size 276, which is longer than the specified 256\n",
      "Created a chunk of size 289, which is longer than the specified 256\n",
      "Created a chunk of size 601, which is longer than the specified 256\n",
      "Created a chunk of size 466, which is longer than the specified 256\n",
      "Created a chunk of size 310, which is longer than the specified 256\n",
      "Created a chunk of size 337, which is longer than the specified 256\n",
      "Created a chunk of size 271, which is longer than the specified 256\n",
      "Created a chunk of size 355, which is longer than the specified 256\n",
      "Created a chunk of size 728, which is longer than the specified 256\n",
      "Created a chunk of size 384, which is longer than the specified 256\n",
      "Created a chunk of size 308, which is longer than the specified 256\n",
      "Created a chunk of size 382, which is longer than the specified 256\n",
      "Created a chunk of size 724, which is longer than the specified 256\n",
      "Created a chunk of size 474, which is longer than the specified 256\n",
      "Created a chunk of size 776, which is longer than the specified 256\n",
      "Created a chunk of size 265, which is longer than the specified 256\n",
      "Created a chunk of size 421, which is longer than the specified 256\n",
      "Created a chunk of size 408, which is longer than the specified 256\n",
      "Created a chunk of size 465, which is longer than the specified 256\n",
      "Created a chunk of size 542, which is longer than the specified 256\n"
     ]
    },
    {
     "name": "stdout",
     "output_type": "stream",
     "text": [
      "page_content='臺灣面積約3.6萬平方公里，在當前全球各島嶼面積排名中位居第38（或39），為板塊碰撞隆起形成的大陸島，是東亞島弧之一部分（由菲律賓板塊潛入歐亞板塊形成）。島上約七成面積之地形為山地與丘陵，平原主要集中於西部沿海，地形海拔變化大，最高點3952公尺。全島被北回歸線貫穿，氣候炎熱，夏季偏長，介於熱帶與亞熱帶地帶之間，北回歸線以北為副熱帶季風氣候、以南為熱帶季風氣候，自然景觀與生態系資源豐富多元。人口約2300萬人，超過七成集中於西部的五大都會區，其中以行政中心臺北為核心的臺北都會區最大，約700萬人。族群構成以漢族、原住民族為主：原住民族由多個屬於南島民族的部族組成，漢族則依民系及移民年代的不同而分為閩南（河洛）、客家與外省族群，其中閩南裔為臺灣最大族群。' metadata={'source': '../textdata/taiwan.txt'}\n"
     ]
    }
   ],
   "source": [
    "# create a text splitter object\n",
    "text_splitter = CharacterTextSplitter(\n",
    "    separator=\"\\n\", # separator between sentences\n",
    "    chunk_size=256, # max size of a chunk\n",
    "    chunk_overlap=0, # overlapp between chunks\n",
    "    length_function=len, # function to calculate the length of a chunk\n",
    ")\n",
    "\n",
    "# split the text\n",
    "sentences = text_splitter.split_documents(documents)\n",
    "\n",
    "print(sentences[1])"
   ]
  },
  {
   "cell_type": "code",
   "execution_count": 11,
   "id": "4b8a4b47",
   "metadata": {},
   "outputs": [
    {
     "name": "stdout",
     "output_type": "stream",
     "text": [
      "152\n"
     ]
    }
   ],
   "source": [
    "print(len(sentences))"
   ]
  },
  {
   "cell_type": "code",
   "execution_count": 12,
   "id": "ccb19acc",
   "metadata": {},
   "outputs": [],
   "source": [
    "# !pip install -qU langchain-openai\n",
    "\n",
    "from langchain_pinecone import PineconeVectorStore\n",
    "from langchain_openai import OpenAIEmbeddings\n",
    "\n",
    "embeddings = OpenAIEmbeddings(model=\"text-embedding-3-small\")\n",
    "index_name = \"sinica-rag-test-0730-text-embedding-3-small\"\n",
    "\n",
    "docsearch = PineconeVectorStore.from_documents(sentences, embedding=embeddings, index_name=index_name)\n",
    "# upload the embeddings to the Pinecone index"
   ]
  }
 ],
 "metadata": {
  "kernelspec": {
   "display_name": "Python 3 (ipykernel)",
   "language": "python",
   "name": "python3"
  },
  "language_info": {
   "codemirror_mode": {
    "name": "ipython",
    "version": 3
   },
   "file_extension": ".py",
   "mimetype": "text/x-python",
   "name": "python",
   "nbconvert_exporter": "python",
   "pygments_lexer": "ipython3",
   "version": "3.11.9"
  }
 },
 "nbformat": 4,
 "nbformat_minor": 5
}
